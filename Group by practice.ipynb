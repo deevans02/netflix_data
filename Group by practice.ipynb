{
 "cells": [
  {
   "cell_type": "code",
   "execution_count": 19,
   "metadata": {},
   "outputs": [],
   "source": [
    "import pandas as pd\n",
    "import matplotlib.pyplot as plt\n",
    "\n",
    "df = pd.read_csv('netflix_titles.csv')\n",
    "# print(df.head())"
   ]
  },
  {
   "cell_type": "code",
   "execution_count": 21,
   "metadata": {},
   "outputs": [],
   "source": [
    "# Filter out all the movies\n",
    "movies = df[df.type == 'Movie']\n",
    "\n",
    "# remove columns\n",
    "movies = movies[['title','release_year','duration', 'listed_in']]\n",
    "# print(movies)\n",
    "\n",
    "# get the duration in number format\n",
    "split_duration = movies.duration.str.split('(\\d+)', expand=True)\n",
    "movies.duration = split_duration[1]\n",
    "movies['duration'] = pd.to_numeric(movies.duration)\n",
    "# movies = movies.dropna()\n",
    "\n",
    "durations = movies.groupby('release_year').duration.mean().reset_index()\n",
    "durations.columns = ['release_year', 'average_duration']\n",
    "# print(durations)"
   ]
  },
  {
   "cell_type": "code",
   "execution_count": 3,
   "metadata": {},
   "outputs": [
    {
     "data": {
      "text/plain": [
       "<matplotlib.collections.PathCollection at 0x11b5b4990>"
      ]
     },
     "execution_count": 3,
     "metadata": {},
     "output_type": "execute_result"
    },
    {
     "data": {
      "image/png": "[encoded data removed]",
      "text/plain": [
       "<Figure size 432x288 with 1 Axes>"
      ]
     },
     "metadata": {
      "needs_background": "light"
     },
     "output_type": "display_data"
    }
   ],
   "source": [
    "plt.scatter(durations.release_year, durations.average_duration)"
   ]
  },
  {
   "cell_type": "code",
   "execution_count": 16,
   "metadata": {},
   "outputs": [
    {
     "name": "stdout",
     "output_type": "stream",
     "text": [
      "['Children & Family Movies', 'Stand-Up Comedy', 'Comedies', 'International Movies', 'Action & Adventure', 'Cult Movies', 'Documentaries', 'Horror Movies', 'Dramas', 'Anime Features', 'Independent Movies', 'Movies', 'Thrillers', 'Classic Movies', 'Music & Musicals', 'Sci-Fi & Fantasy', 'Sports Movies', 'Romantic Movies', None, 'LGBTQ Movies', 'Faith & Spirituality']\n"
     ]
    }
   ],
   "source": [
    "# print(movies.head)\n",
    "\n",
    "# Split genres into individual strings and convert them into lists\n",
    "listed_in = movies.listed_in.str.split(', ', expand=True)\n",
    "list_of_genres_0 = listed_in[0].to_list()\n",
    "list_of_genres_1 = listed_in[1].to_list()\n",
    "list_of_genres_2 = listed_in[2].to_list()\n",
    "\n",
    "# combine all these lists and remove all the duplicated genres\n",
    "list_of_genres = list_of_genres_0 + list_of_genres_1 + list_of_genres_2\n",
    "unique_genres = [] \n",
    "for i in list_of_genres: \n",
    "    if i not in unique_genres: \n",
    "        unique_genres.append(i) \n",
    "print(unique_genres)\n"
   ]
  },
  {
   "cell_type": "code",
   "execution_count": 22,
   "metadata": {},
   "outputs": [
    {
     "name": "stdout",
     "output_type": "stream",
     "text": [
      "                                     title  release_year  duration  \\\n",
      "0  Norm of the North: King Sized Adventure          2019        90   \n",
      "1               Jandino: Whatever it Takes          2016        94   \n",
      "4                             #realityhigh          2017        99   \n",
      "6                                 Automata          2014       110   \n",
      "7       Fabrizio Copano: Solo pienso en mi          2017        60   \n",
      "\n",
      "                                           listed_in  \n",
      "0                 Children & Family Movies, Comedies  \n",
      "1                                    Stand-Up Comedy  \n",
      "4                                           Comedies  \n",
      "6  International Movies, Sci-Fi & Fantasy, Thrillers  \n",
      "7                                    Stand-Up Comedy  \n"
     ]
    }
   ],
   "source": [
    "print(movies.head())\n",
    "\n",
    "\n",
    "durations = movies.groupby('release_year').duration.mean().reset_index()"
   ]
  }
 ],
 "metadata": {
  "kernelspec": {
   "display_name": "Python 3",
   "language": "python",
   "name": "python3"
  },
  "language_info": {
   "codemirror_mode": {
    "name": "ipython",
    "version": 3
   },
   "file_extension": ".py",
   "mimetype": "text/x-python",
   "name": "python",
   "nbconvert_exporter": "python",
   "pygments_lexer": "ipython3",
   "version": "3.7.4"
  }
 },
 "nbformat": 4,
 "nbformat_minor": 4
}
